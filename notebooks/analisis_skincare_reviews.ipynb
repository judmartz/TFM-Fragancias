{
 "cells": [
  {
   "cell_type": "markdown",
   "id": "d85baf3c",
   "metadata": {},
   "source": [
    "# 🧴 Análisis de Reseñas - Skincare (Text Analytics)\n",
    "Este notebook realiza una limpieza básica de texto y detecta reseñas con lenguaje positivo sobre productos de cuidado de la piel (Skincare).\n"
   ]
  },
  {
   "cell_type": "code",
   "execution_count": 8,
   "id": "28c84a68",
   "metadata": {},
   "outputs": [
    {
     "name": "stderr",
     "output_type": "stream",
     "text": [
      "25/06/27 17:52:12 WARN SparkStringUtils: Truncated the string representation of a plan since it was too large. This behavior can be adjusted by setting 'spark.sql.debug.maxToStringFields'.\n",
      "                                                                                \r"
     ]
    },
    {
     "data": {
      "text/html": [
       "<div>\n",
       "<style scoped>\n",
       "    .dataframe tbody tr th:only-of-type {\n",
       "        vertical-align: middle;\n",
       "    }\n",
       "\n",
       "    .dataframe tbody tr th {\n",
       "        vertical-align: top;\n",
       "    }\n",
       "\n",
       "    .dataframe thead th {\n",
       "        text-align: right;\n",
       "    }\n",
       "</style>\n",
       "<table border=\"1\" class=\"dataframe\">\n",
       "  <thead>\n",
       "    <tr style=\"text-align: right;\">\n",
       "      <th></th>\n",
       "      <th>product_id</th>\n",
       "      <th>review_text</th>\n",
       "    </tr>\n",
       "  </thead>\n",
       "  <tbody>\n",
       "    <tr>\n",
       "      <th>0</th>\n",
       "      <td>P427417</td>\n",
       "      <td>i love this brand &amp; product. it has made my sk...</td>\n",
       "    </tr>\n",
       "    <tr>\n",
       "      <th>1</th>\n",
       "      <td>P427417</td>\n",
       "      <td>i gave it 2 months and used 2 bottles but this...</td>\n",
       "    </tr>\n",
       "    <tr>\n",
       "      <th>2</th>\n",
       "      <td>P427417</td>\n",
       "      <td>i’m an esthetician and i so wanted badly to lo...</td>\n",
       "    </tr>\n",
       "    <tr>\n",
       "      <th>3</th>\n",
       "      <td>P427417</td>\n",
       "      <td>reading through all the reviews (on the basis ...</td>\n",
       "    </tr>\n",
       "    <tr>\n",
       "      <th>4</th>\n",
       "      <td>P427417</td>\n",
       "      <td>this line of products never disappoints.  this...</td>\n",
       "    </tr>\n",
       "  </tbody>\n",
       "</table>\n",
       "</div>"
      ],
      "text/plain": [
       "  product_id                                        review_text\n",
       "0    P427417  i love this brand & product. it has made my sk...\n",
       "1    P427417  i gave it 2 months and used 2 bottles but this...\n",
       "2    P427417  i’m an esthetician and i so wanted badly to lo...\n",
       "3    P427417  reading through all the reviews (on the basis ...\n",
       "4    P427417  this line of products never disappoints.  this..."
      ]
     },
     "execution_count": 8,
     "metadata": {},
     "output_type": "execute_result"
    }
   ],
   "source": [
    "import os\n",
    "from pyspark.sql import SparkSession\n",
    "from delta import configure_spark_with_delta_pip\n",
    "\n",
    "# Inicializar Spark con Delta\n",
    "builder = SparkSession.builder \\\n",
    "    .appName(\"Skincare Reviews Analytics\") \\\n",
    "    .master(\"local[*]\") \\\n",
    "    .config(\"spark.sql.extensions\", \"io.delta.sql.DeltaSparkSessionExtension\") \\\n",
    "    .config(\"spark.sql.catalog.spark_catalog\", \"org.apache.spark.sql.delta.catalog.DeltaCatalog\")\n",
    "\n",
    "spark = configure_spark_with_delta_pip(builder).getOrCreate()\n",
    "\n",
    "# Cargar dataset Delta limpio\n",
    "\n",
    "ruta = os.path.expanduser(\"~/MASTER_BIGDATA/TFM/TFM-Fragancias/data/exploitation/products/skincare_reviews\")\n",
    "df = spark.read.format(\"delta\").load(ruta)\n",
    "df_pd = df.toPandas()\n",
    "\n",
    "# Vista previa\n",
    "df_pd.head()\n"
   ]
  },
  {
   "cell_type": "code",
   "execution_count": 9,
   "id": "0978a02f",
   "metadata": {},
   "outputs": [
    {
     "data": {
      "text/html": [
       "<div>\n",
       "<style scoped>\n",
       "    .dataframe tbody tr th:only-of-type {\n",
       "        vertical-align: middle;\n",
       "    }\n",
       "\n",
       "    .dataframe tbody tr th {\n",
       "        vertical-align: top;\n",
       "    }\n",
       "\n",
       "    .dataframe thead th {\n",
       "        text-align: right;\n",
       "    }\n",
       "</style>\n",
       "<table border=\"1\" class=\"dataframe\">\n",
       "  <thead>\n",
       "    <tr style=\"text-align: right;\">\n",
       "      <th></th>\n",
       "      <th>product_id</th>\n",
       "      <th>review_text</th>\n",
       "      <th>is_positive</th>\n",
       "    </tr>\n",
       "  </thead>\n",
       "  <tbody>\n",
       "    <tr>\n",
       "      <th>0</th>\n",
       "      <td>P427417</td>\n",
       "      <td>i love this brand &amp; product. it has made my sk...</td>\n",
       "      <td>True</td>\n",
       "    </tr>\n",
       "    <tr>\n",
       "      <th>1</th>\n",
       "      <td>P427417</td>\n",
       "      <td>i gave it 2 months and used 2 bottles but this...</td>\n",
       "      <td>False</td>\n",
       "    </tr>\n",
       "    <tr>\n",
       "      <th>2</th>\n",
       "      <td>P427417</td>\n",
       "      <td>i’m an esthetician and i so wanted badly to lo...</td>\n",
       "      <td>True</td>\n",
       "    </tr>\n",
       "    <tr>\n",
       "      <th>3</th>\n",
       "      <td>P427417</td>\n",
       "      <td>reading through all the reviews (on the basis ...</td>\n",
       "      <td>True</td>\n",
       "    </tr>\n",
       "    <tr>\n",
       "      <th>4</th>\n",
       "      <td>P427417</td>\n",
       "      <td>this line of products never disappoints.  this...</td>\n",
       "      <td>False</td>\n",
       "    </tr>\n",
       "  </tbody>\n",
       "</table>\n",
       "</div>"
      ],
      "text/plain": [
       "  product_id                                        review_text  is_positive\n",
       "0    P427417  i love this brand & product. it has made my sk...         True\n",
       "1    P427417  i gave it 2 months and used 2 bottles but this...        False\n",
       "2    P427417  i’m an esthetician and i so wanted badly to lo...         True\n",
       "3    P427417  reading through all the reviews (on the basis ...         True\n",
       "4    P427417  this line of products never disappoints.  this...        False"
      ]
     },
     "execution_count": 9,
     "metadata": {},
     "output_type": "execute_result"
    }
   ],
   "source": [
    "import string\n",
    "\n",
    "# Palabras positivas básicas\n",
    "positive_words = {\"love\", \"like\", \"amazing\", \"great\", \"perfect\", \"awesome\", \"wonderful\", \"excellent\"}\n",
    "\n",
    "def clean_and_detect(text):\n",
    "    if not isinstance(text, str):\n",
    "        return False\n",
    "    # Eliminar puntuación y pasar a minúsculas\n",
    "    text_clean = text.translate(str.maketrans(\"\", \"\", string.punctuation)).lower()\n",
    "    return any(word in text_clean for word in positive_words)\n",
    "\n",
    "# Aplicar detección\n",
    "df_pd[\"is_positive\"] = df_pd[\"review_text\"].apply(clean_and_detect)\n",
    "\n",
    "# Ver primeras filas\n",
    "df_pd[[\"product_id\", \"review_text\", \"is_positive\"]].head()\n"
   ]
  },
  {
   "cell_type": "code",
   "execution_count": 10,
   "id": "2305c2d8",
   "metadata": {},
   "outputs": [
    {
     "name": "stdout",
     "output_type": "stream",
     "text": [
      "📝 Total de reseñas: 599634\n",
      "👍 Reseñas positivas detectadas: 414207\n"
     ]
    }
   ],
   "source": [
    "print(\"📝 Total de reseñas:\", len(df_pd))\n",
    "print(\"👍 Reseñas positivas detectadas:\", df_pd['is_positive'].sum())\n"
   ]
  },
  {
   "cell_type": "code",
   "execution_count": 11,
   "id": "d3c2ab0c",
   "metadata": {},
   "outputs": [
    {
     "data": {
      "text/html": [
       "<div>\n",
       "<style scoped>\n",
       "    .dataframe tbody tr th:only-of-type {\n",
       "        vertical-align: middle;\n",
       "    }\n",
       "\n",
       "    .dataframe tbody tr th {\n",
       "        vertical-align: top;\n",
       "    }\n",
       "\n",
       "    .dataframe thead th {\n",
       "        text-align: right;\n",
       "    }\n",
       "</style>\n",
       "<table border=\"1\" class=\"dataframe\">\n",
       "  <thead>\n",
       "    <tr style=\"text-align: right;\">\n",
       "      <th></th>\n",
       "      <th>product_id</th>\n",
       "      <th>review_text</th>\n",
       "    </tr>\n",
       "  </thead>\n",
       "  <tbody>\n",
       "    <tr>\n",
       "      <th>100377</th>\n",
       "      <td>P411403</td>\n",
       "      <td>the it cosmetics products never disappoint, th...</td>\n",
       "    </tr>\n",
       "    <tr>\n",
       "      <th>164488</th>\n",
       "      <td>P42204</td>\n",
       "      <td>i always use this lip balm to hydrate my lips ...</td>\n",
       "    </tr>\n",
       "    <tr>\n",
       "      <th>38132</th>\n",
       "      <td>P443840</td>\n",
       "      <td>i was excited to try the inkey list caffeine e...</td>\n",
       "    </tr>\n",
       "    <tr>\n",
       "      <th>505656</th>\n",
       "      <td>P406712</td>\n",
       "      <td>gave my skin great hydration....10/10 would re...</td>\n",
       "    </tr>\n",
       "    <tr>\n",
       "      <th>581477</th>\n",
       "      <td>P421275</td>\n",
       "      <td>i received these complimentary from influenste...</td>\n",
       "    </tr>\n",
       "  </tbody>\n",
       "</table>\n",
       "</div>"
      ],
      "text/plain": [
       "       product_id                                        review_text\n",
       "100377    P411403  the it cosmetics products never disappoint, th...\n",
       "164488     P42204  i always use this lip balm to hydrate my lips ...\n",
       "38132     P443840  i was excited to try the inkey list caffeine e...\n",
       "505656    P406712  gave my skin great hydration....10/10 would re...\n",
       "581477    P421275  i received these complimentary from influenste..."
      ]
     },
     "execution_count": 11,
     "metadata": {},
     "output_type": "execute_result"
    }
   ],
   "source": [
    "# Si hay menos de 5 positivas, mostrar todas\n",
    "positivas = df_pd[df_pd[\"is_positive\"]]\n",
    "sample_size = min(5, len(positivas))\n",
    "\n",
    "positivas[[\"product_id\", \"review_text\"]].sample(sample_size, random_state=42)\n"
   ]
  }
 ],
 "metadata": {
  "kernelspec": {
   "display_name": "Python (master_bigdata)",
   "language": "python",
   "name": "master_bigdata_env"
  },
  "language_info": {
   "codemirror_mode": {
    "name": "ipython",
    "version": 3
   },
   "file_extension": ".py",
   "mimetype": "text/x-python",
   "name": "python",
   "nbconvert_exporter": "python",
   "pygments_lexer": "ipython3",
   "version": "3.10.12"
  }
 },
 "nbformat": 4,
 "nbformat_minor": 5
}
