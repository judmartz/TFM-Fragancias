{
 "cells": [
  {
   "cell_type": "markdown",
   "id": "d85baf3c",
   "metadata": {},
   "source": [
    "# 🧴 Análisis de Reseñas - Skincare (Text Analytics)\n",
    "Este notebook realiza una limpieza básica de texto y detecta reseñas con lenguaje positivo sobre productos de cuidado de la piel (Skincare).\n"
   ]
  },
  {
   "cell_type": "code",
   "execution_count": 1,
   "id": "28c84a68",
   "metadata": {},
   "outputs": [
    {
     "name": "stderr",
     "output_type": "stream",
     "text": [
      "your 131072x1 screen size is bogus. expect trouble\n",
      "25/08/20 17:00:09 WARN Utils: Your hostname, DESKTOP-TO5DGIL resolves to a loopback address: 127.0.1.1; using 172.20.172.230 instead (on interface eth0)\n",
      "25/08/20 17:00:09 WARN Utils: Set SPARK_LOCAL_IP if you need to bind to another address\n"
     ]
    },
    {
     "name": "stdout",
     "output_type": "stream",
     "text": [
      ":: loading settings :: url = jar:file:/home/judmartz/spark/jars/ivy-2.5.1.jar!/org/apache/ivy/core/settings/ivysettings.xml\n"
     ]
    },
    {
     "name": "stderr",
     "output_type": "stream",
     "text": [
      "Ivy Default Cache set to: /home/judmartz/.ivy2/cache\n",
      "The jars for the packages stored in: /home/judmartz/.ivy2/jars\n",
      "io.delta#delta-spark_2.12 added as a dependency\n",
      ":: resolving dependencies :: org.apache.spark#spark-submit-parent-7622c7b7-8915-4809-93a4-4eb708fb226f;1.0\n",
      "\tconfs: [default]\n",
      "\tfound io.delta#delta-spark_2.12;3.1.0 in central\n",
      "\tfound io.delta#delta-storage;3.1.0 in central\n",
      "\tfound org.antlr#antlr4-runtime;4.9.3 in central\n",
      ":: resolution report :: resolve 597ms :: artifacts dl 46ms\n",
      "\t:: modules in use:\n",
      "\tio.delta#delta-spark_2.12;3.1.0 from central in [default]\n",
      "\tio.delta#delta-storage;3.1.0 from central in [default]\n",
      "\torg.antlr#antlr4-runtime;4.9.3 from central in [default]\n",
      "\t---------------------------------------------------------------------\n",
      "\t|                  |            modules            ||   artifacts   |\n",
      "\t|       conf       | number| search|dwnlded|evicted|| number|dwnlded|\n",
      "\t---------------------------------------------------------------------\n",
      "\t|      default     |   3   |   0   |   0   |   0   ||   3   |   0   |\n",
      "\t---------------------------------------------------------------------\n",
      ":: retrieving :: org.apache.spark#spark-submit-parent-7622c7b7-8915-4809-93a4-4eb708fb226f\n",
      "\tconfs: [default]\n",
      "\t0 artifacts copied, 3 already retrieved (0kB/20ms)\n",
      "25/08/20 17:00:12 WARN NativeCodeLoader: Unable to load native-hadoop library for your platform... using builtin-java classes where applicable\n",
      "Setting default log level to \"WARN\".\n",
      "To adjust logging level use sc.setLogLevel(newLevel). For SparkR, use setLogLevel(newLevel).\n",
      "25/08/20 17:00:45 WARN SparkStringUtils: Truncated the string representation of a plan since it was too large. This behavior can be adjusted by setting 'spark.sql.debug.maxToStringFields'.\n",
      "                                                                                \r"
     ]
    },
    {
     "data": {
      "text/html": [
       "<div>\n",
       "<style scoped>\n",
       "    .dataframe tbody tr th:only-of-type {\n",
       "        vertical-align: middle;\n",
       "    }\n",
       "\n",
       "    .dataframe tbody tr th {\n",
       "        vertical-align: top;\n",
       "    }\n",
       "\n",
       "    .dataframe thead th {\n",
       "        text-align: right;\n",
       "    }\n",
       "</style>\n",
       "<table border=\"1\" class=\"dataframe\">\n",
       "  <thead>\n",
       "    <tr style=\"text-align: right;\">\n",
       "      <th></th>\n",
       "      <th>product_id</th>\n",
       "      <th>review_text</th>\n",
       "    </tr>\n",
       "  </thead>\n",
       "  <tbody>\n",
       "    <tr>\n",
       "      <th>0</th>\n",
       "      <td>P420652</td>\n",
       "      <td>i would not repurchase as there are better one...</td>\n",
       "    </tr>\n",
       "    <tr>\n",
       "      <th>1</th>\n",
       "      <td>P420652</td>\n",
       "      <td>i love it, the flavour and the little applicat...</td>\n",
       "    </tr>\n",
       "    <tr>\n",
       "      <th>2</th>\n",
       "      <td>P420652</td>\n",
       "      <td>i can not live with out this product it leaves...</td>\n",
       "    </tr>\n",
       "    <tr>\n",
       "      <th>3</th>\n",
       "      <td>P420652</td>\n",
       "      <td>before buying this product, you have to unders...</td>\n",
       "    </tr>\n",
       "    <tr>\n",
       "      <th>4</th>\n",
       "      <td>P420652</td>\n",
       "      <td>this lip mask is so good for dehydrated lips. ...</td>\n",
       "    </tr>\n",
       "  </tbody>\n",
       "</table>\n",
       "</div>"
      ],
      "text/plain": [
       "  product_id                                        review_text\n",
       "0    P420652  i would not repurchase as there are better one...\n",
       "1    P420652  i love it, the flavour and the little applicat...\n",
       "2    P420652  i can not live with out this product it leaves...\n",
       "3    P420652  before buying this product, you have to unders...\n",
       "4    P420652  this lip mask is so good for dehydrated lips. ..."
      ]
     },
     "execution_count": 1,
     "metadata": {},
     "output_type": "execute_result"
    }
   ],
   "source": [
    "import os\n",
    "from pyspark.sql import SparkSession\n",
    "from delta import configure_spark_with_delta_pip\n",
    "\n",
    "# Inicializar Spark con Delta\n",
    "builder = SparkSession.builder \\\n",
    "    .appName(\"Skincare Reviews Analytics\") \\\n",
    "    .master(\"local[*]\") \\\n",
    "    .config(\"spark.sql.extensions\", \"io.delta.sql.DeltaSparkSessionExtension\") \\\n",
    "    .config(\"spark.sql.catalog.spark_catalog\", \"org.apache.spark.sql.delta.catalog.DeltaCatalog\")\n",
    "\n",
    "spark = configure_spark_with_delta_pip(builder).getOrCreate()\n",
    "\n",
    "# Cargar dataset Delta limpio\n",
    "\n",
    "ruta = os.path.expanduser(\"~/MASTER_BIGDATA/TFM/TFM-Fragancias/data/exploitation/products/skincare_reviews\")\n",
    "df = spark.read.format(\"delta\").load(ruta)\n",
    "df_pd = df.toPandas()\n",
    "\n",
    "# Vista previa\n",
    "df_pd.head()\n"
   ]
  },
  {
   "cell_type": "code",
   "execution_count": 2,
   "id": "0978a02f",
   "metadata": {},
   "outputs": [
    {
     "data": {
      "text/html": [
       "<div>\n",
       "<style scoped>\n",
       "    .dataframe tbody tr th:only-of-type {\n",
       "        vertical-align: middle;\n",
       "    }\n",
       "\n",
       "    .dataframe tbody tr th {\n",
       "        vertical-align: top;\n",
       "    }\n",
       "\n",
       "    .dataframe thead th {\n",
       "        text-align: right;\n",
       "    }\n",
       "</style>\n",
       "<table border=\"1\" class=\"dataframe\">\n",
       "  <thead>\n",
       "    <tr style=\"text-align: right;\">\n",
       "      <th></th>\n",
       "      <th>product_id</th>\n",
       "      <th>review_text</th>\n",
       "      <th>is_positive</th>\n",
       "    </tr>\n",
       "  </thead>\n",
       "  <tbody>\n",
       "    <tr>\n",
       "      <th>0</th>\n",
       "      <td>P420652</td>\n",
       "      <td>i would not repurchase as there are better one...</td>\n",
       "      <td>False</td>\n",
       "    </tr>\n",
       "    <tr>\n",
       "      <th>1</th>\n",
       "      <td>P420652</td>\n",
       "      <td>i love it, the flavour and the little applicat...</td>\n",
       "      <td>True</td>\n",
       "    </tr>\n",
       "    <tr>\n",
       "      <th>2</th>\n",
       "      <td>P420652</td>\n",
       "      <td>i can not live with out this product it leaves...</td>\n",
       "      <td>False</td>\n",
       "    </tr>\n",
       "    <tr>\n",
       "      <th>3</th>\n",
       "      <td>P420652</td>\n",
       "      <td>before buying this product, you have to unders...</td>\n",
       "      <td>False</td>\n",
       "    </tr>\n",
       "    <tr>\n",
       "      <th>4</th>\n",
       "      <td>P420652</td>\n",
       "      <td>this lip mask is so good for dehydrated lips. ...</td>\n",
       "      <td>False</td>\n",
       "    </tr>\n",
       "  </tbody>\n",
       "</table>\n",
       "</div>"
      ],
      "text/plain": [
       "  product_id                                        review_text  is_positive\n",
       "0    P420652  i would not repurchase as there are better one...        False\n",
       "1    P420652  i love it, the flavour and the little applicat...         True\n",
       "2    P420652  i can not live with out this product it leaves...        False\n",
       "3    P420652  before buying this product, you have to unders...        False\n",
       "4    P420652  this lip mask is so good for dehydrated lips. ...        False"
      ]
     },
     "execution_count": 2,
     "metadata": {},
     "output_type": "execute_result"
    }
   ],
   "source": [
    "import string\n",
    "\n",
    "# Palabras positivas básicas\n",
    "positive_words = {\"love\", \"like\", \"amazing\", \"great\", \"perfect\", \"awesome\", \"wonderful\", \"excellent\"}\n",
    "\n",
    "def clean_and_detect(text):\n",
    "    if not isinstance(text, str):\n",
    "        return False\n",
    "    # Eliminar puntuación y pasar a minúsculas\n",
    "    text_clean = text.translate(str.maketrans(\"\", \"\", string.punctuation)).lower()\n",
    "    return any(word in text_clean for word in positive_words)\n",
    "\n",
    "# Aplicar detección\n",
    "df_pd[\"is_positive\"] = df_pd[\"review_text\"].apply(clean_and_detect)\n",
    "\n",
    "# Ver primeras filas\n",
    "df_pd[[\"product_id\", \"review_text\", \"is_positive\"]].head()\n"
   ]
  },
  {
   "cell_type": "code",
   "execution_count": 3,
   "id": "2305c2d8",
   "metadata": {},
   "outputs": [
    {
     "name": "stdout",
     "output_type": "stream",
     "text": [
      "📝 Total de reseñas: 599634\n",
      "👍 Reseñas positivas detectadas: 414207\n"
     ]
    }
   ],
   "source": [
    "print(\"📝 Total de reseñas:\", len(df_pd))\n",
    "print(\"👍 Reseñas positivas detectadas:\", df_pd['is_positive'].sum())\n"
   ]
  },
  {
   "cell_type": "code",
   "execution_count": 4,
   "id": "d3c2ab0c",
   "metadata": {},
   "outputs": [
    {
     "data": {
      "text/html": [
       "<div>\n",
       "<style scoped>\n",
       "    .dataframe tbody tr th:only-of-type {\n",
       "        vertical-align: middle;\n",
       "    }\n",
       "\n",
       "    .dataframe tbody tr th {\n",
       "        vertical-align: top;\n",
       "    }\n",
       "\n",
       "    .dataframe thead th {\n",
       "        text-align: right;\n",
       "    }\n",
       "</style>\n",
       "<table border=\"1\" class=\"dataframe\">\n",
       "  <thead>\n",
       "    <tr style=\"text-align: right;\">\n",
       "      <th></th>\n",
       "      <th>product_id</th>\n",
       "      <th>review_text</th>\n",
       "    </tr>\n",
       "  </thead>\n",
       "  <tbody>\n",
       "    <tr>\n",
       "      <th>101419</th>\n",
       "      <td>P427414</td>\n",
       "      <td>i’m just finishing this and i really do love i...</td>\n",
       "    </tr>\n",
       "    <tr>\n",
       "      <th>165346</th>\n",
       "      <td>P418218</td>\n",
       "      <td>i really wanted to like this cream, but it clo...</td>\n",
       "    </tr>\n",
       "    <tr>\n",
       "      <th>38927</th>\n",
       "      <td>P411540</td>\n",
       "      <td>i have really fair skin that’s super hard to c...</td>\n",
       "    </tr>\n",
       "    <tr>\n",
       "      <th>507328</th>\n",
       "      <td>P309308</td>\n",
       "      <td>pricey but good results! i’ve gone through 1.5...</td>\n",
       "    </tr>\n",
       "    <tr>\n",
       "      <th>581536</th>\n",
       "      <td>P453825</td>\n",
       "      <td>i love this product. i wasn’t sure since it’s ...</td>\n",
       "    </tr>\n",
       "  </tbody>\n",
       "</table>\n",
       "</div>"
      ],
      "text/plain": [
       "       product_id                                        review_text\n",
       "101419    P427414  i’m just finishing this and i really do love i...\n",
       "165346    P418218  i really wanted to like this cream, but it clo...\n",
       "38927     P411540  i have really fair skin that’s super hard to c...\n",
       "507328    P309308  pricey but good results! i’ve gone through 1.5...\n",
       "581536    P453825  i love this product. i wasn’t sure since it’s ..."
      ]
     },
     "execution_count": 4,
     "metadata": {},
     "output_type": "execute_result"
    }
   ],
   "source": [
    "# Si hay menos de 5 positivas, mostrar todas\n",
    "positivas = df_pd[df_pd[\"is_positive\"]]\n",
    "sample_size = min(5, len(positivas))\n",
    "\n",
    "positivas[[\"product_id\", \"review_text\"]].sample(sample_size, random_state=42)\n"
   ]
  }
 ],
 "metadata": {
  "kernelspec": {
   "display_name": ".venv",
   "language": "python",
   "name": "python3"
  },
  "language_info": {
   "codemirror_mode": {
    "name": "ipython",
    "version": 3
   },
   "file_extension": ".py",
   "mimetype": "text/x-python",
   "name": "python",
   "nbconvert_exporter": "python",
   "pygments_lexer": "ipython3",
   "version": "3.10.12"
  }
 },
 "nbformat": 4,
 "nbformat_minor": 5
}
