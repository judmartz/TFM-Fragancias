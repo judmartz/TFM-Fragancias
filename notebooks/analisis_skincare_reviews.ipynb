{
 "cells": [
  {
   "cell_type": "markdown",
   "id": "d85baf3c",
   "metadata": {},
   "source": [
    "# 🧴 Análisis de Reseñas - Skincare (Text Analytics)\n",
    "Este notebook realiza una limpieza básica de texto y detecta reseñas con lenguaje positivo sobre productos de cuidado de la piel (Skincare).\n"
   ]
  },
  {
   "cell_type": "code",
   "execution_count": 1,
   "id": "28c84a68",
   "metadata": {},
   "outputs": [
    {
     "name": "stderr",
     "output_type": "stream",
     "text": [
      "your 131072x1 screen size is bogus. expect trouble\n",
      "25/06/26 21:49:22 WARN Utils: Your hostname, DavidMartori resolves to a loopback address: 127.0.1.1; using 10.255.255.254 instead (on interface lo)\n",
      "25/06/26 21:49:22 WARN Utils: Set SPARK_LOCAL_IP if you need to bind to another address\n"
     ]
    },
    {
     "name": "stdout",
     "output_type": "stream",
     "text": [
      ":: loading settings :: url = jar:file:/home/davidmc/spark/jars/ivy-2.5.1.jar!/org/apache/ivy/core/settings/ivysettings.xml\n"
     ]
    },
    {
     "name": "stderr",
     "output_type": "stream",
     "text": [
      "Ivy Default Cache set to: /home/davidmc/.ivy2/cache\n",
      "The jars for the packages stored in: /home/davidmc/.ivy2/jars\n",
      "io.delta#delta-spark_2.12 added as a dependency\n",
      ":: resolving dependencies :: org.apache.spark#spark-submit-parent-5c9b4833-2186-45ba-b904-543857777e0f;1.0\n",
      "\tconfs: [default]\n",
      "\tfound io.delta#delta-spark_2.12;3.2.0 in central\n",
      "\tfound io.delta#delta-storage;3.2.0 in central\n",
      "\tfound org.antlr#antlr4-runtime;4.9.3 in central\n",
      ":: resolution report :: resolve 149ms :: artifacts dl 8ms\n",
      "\t:: modules in use:\n",
      "\tio.delta#delta-spark_2.12;3.2.0 from central in [default]\n",
      "\tio.delta#delta-storage;3.2.0 from central in [default]\n",
      "\torg.antlr#antlr4-runtime;4.9.3 from central in [default]\n",
      "\t---------------------------------------------------------------------\n",
      "\t|                  |            modules            ||   artifacts   |\n",
      "\t|       conf       | number| search|dwnlded|evicted|| number|dwnlded|\n",
      "\t---------------------------------------------------------------------\n",
      "\t|      default     |   3   |   0   |   0   |   0   ||   3   |   0   |\n",
      "\t---------------------------------------------------------------------\n",
      ":: retrieving :: org.apache.spark#spark-submit-parent-5c9b4833-2186-45ba-b904-543857777e0f\n",
      "\tconfs: [default]\n",
      "\t0 artifacts copied, 3 already retrieved (0kB/5ms)\n",
      "25/06/26 21:49:23 WARN NativeCodeLoader: Unable to load native-hadoop library for your platform... using builtin-java classes where applicable\n",
      "Setting default log level to \"WARN\".\n",
      "To adjust logging level use sc.setLogLevel(newLevel). For SparkR, use setLogLevel(newLevel).\n",
      "25/06/26 21:49:29 WARN SparkStringUtils: Truncated the string representation of a plan since it was too large. This behavior can be adjusted by setting 'spark.sql.debug.maxToStringFields'.\n",
      "                                                                                \r"
     ]
    },
    {
     "data": {
      "text/html": [
       "<div>\n",
       "<style scoped>\n",
       "    .dataframe tbody tr th:only-of-type {\n",
       "        vertical-align: middle;\n",
       "    }\n",
       "\n",
       "    .dataframe tbody tr th {\n",
       "        vertical-align: top;\n",
       "    }\n",
       "\n",
       "    .dataframe thead th {\n",
       "        text-align: right;\n",
       "    }\n",
       "</style>\n",
       "<table border=\"1\" class=\"dataframe\">\n",
       "  <thead>\n",
       "    <tr style=\"text-align: right;\">\n",
       "      <th></th>\n",
       "      <th>product_id</th>\n",
       "      <th>review_text</th>\n",
       "    </tr>\n",
       "  </thead>\n",
       "  <tbody>\n",
       "    <tr>\n",
       "      <th>0</th>\n",
       "      <td>P218700</td>\n",
       "      <td>evidently, no one has commented on this produc...</td>\n",
       "    </tr>\n",
       "    <tr>\n",
       "      <th>1</th>\n",
       "      <td>P248407</td>\n",
       "      <td>it stings my skin once i apply it. i would not...</td>\n",
       "    </tr>\n",
       "    <tr>\n",
       "      <th>2</th>\n",
       "      <td>P248407</td>\n",
       "      <td>i’ve been using this cream for about 2 months ...</td>\n",
       "    </tr>\n",
       "    <tr>\n",
       "      <th>3</th>\n",
       "      <td>P248407</td>\n",
       "      <td>love this cream. feels great on my skin and i ...</td>\n",
       "    </tr>\n",
       "    <tr>\n",
       "      <th>4</th>\n",
       "      <td>P248407</td>\n",
       "      <td>i have repurchased this so many times! it is s...</td>\n",
       "    </tr>\n",
       "  </tbody>\n",
       "</table>\n",
       "</div>"
      ],
      "text/plain": [
       "  product_id                                        review_text\n",
       "0    P218700  evidently, no one has commented on this produc...\n",
       "1    P248407  it stings my skin once i apply it. i would not...\n",
       "2    P248407  i’ve been using this cream for about 2 months ...\n",
       "3    P248407  love this cream. feels great on my skin and i ...\n",
       "4    P248407  i have repurchased this so many times! it is s..."
      ]
     },
     "execution_count": 1,
     "metadata": {},
     "output_type": "execute_result"
    }
   ],
   "source": [
    "from pyspark.sql import SparkSession\n",
    "from delta import configure_spark_with_delta_pip\n",
    "\n",
    "# Inicializar Spark con Delta\n",
    "builder = SparkSession.builder \\\n",
    "    .appName(\"Skincare Reviews Analytics\") \\\n",
    "    .master(\"local[*]\") \\\n",
    "    .config(\"spark.sql.extensions\", \"io.delta.sql.DeltaSparkSessionExtension\") \\\n",
    "    .config(\"spark.sql.catalog.spark_catalog\", \"org.apache.spark.sql.delta.catalog.DeltaCatalog\")\n",
    "\n",
    "spark = configure_spark_with_delta_pip(builder).getOrCreate()\n",
    "\n",
    "# Cargar dataset Delta limpio\n",
    "df = spark.read.format(\"delta\").load(\"/home/davidmc/MASTER_BIGDATA/TFM/TFM-Fragancias/data/exploitation/products/skincare_reviews\")\n",
    "df_pd = df.toPandas()\n",
    "\n",
    "# Vista previa\n",
    "df_pd.head()\n"
   ]
  },
  {
   "cell_type": "code",
   "execution_count": 2,
   "id": "0978a02f",
   "metadata": {},
   "outputs": [
    {
     "data": {
      "text/html": [
       "<div>\n",
       "<style scoped>\n",
       "    .dataframe tbody tr th:only-of-type {\n",
       "        vertical-align: middle;\n",
       "    }\n",
       "\n",
       "    .dataframe tbody tr th {\n",
       "        vertical-align: top;\n",
       "    }\n",
       "\n",
       "    .dataframe thead th {\n",
       "        text-align: right;\n",
       "    }\n",
       "</style>\n",
       "<table border=\"1\" class=\"dataframe\">\n",
       "  <thead>\n",
       "    <tr style=\"text-align: right;\">\n",
       "      <th></th>\n",
       "      <th>product_id</th>\n",
       "      <th>review_text</th>\n",
       "      <th>is_positive</th>\n",
       "    </tr>\n",
       "  </thead>\n",
       "  <tbody>\n",
       "    <tr>\n",
       "      <th>0</th>\n",
       "      <td>P218700</td>\n",
       "      <td>evidently, no one has commented on this produc...</td>\n",
       "      <td>True</td>\n",
       "    </tr>\n",
       "    <tr>\n",
       "      <th>1</th>\n",
       "      <td>P248407</td>\n",
       "      <td>it stings my skin once i apply it. i would not...</td>\n",
       "      <td>False</td>\n",
       "    </tr>\n",
       "    <tr>\n",
       "      <th>2</th>\n",
       "      <td>P248407</td>\n",
       "      <td>i’ve been using this cream for about 2 months ...</td>\n",
       "      <td>True</td>\n",
       "    </tr>\n",
       "    <tr>\n",
       "      <th>3</th>\n",
       "      <td>P248407</td>\n",
       "      <td>love this cream. feels great on my skin and i ...</td>\n",
       "      <td>True</td>\n",
       "    </tr>\n",
       "    <tr>\n",
       "      <th>4</th>\n",
       "      <td>P248407</td>\n",
       "      <td>i have repurchased this so many times! it is s...</td>\n",
       "      <td>False</td>\n",
       "    </tr>\n",
       "  </tbody>\n",
       "</table>\n",
       "</div>"
      ],
      "text/plain": [
       "  product_id                                        review_text  is_positive\n",
       "0    P218700  evidently, no one has commented on this produc...         True\n",
       "1    P248407  it stings my skin once i apply it. i would not...        False\n",
       "2    P248407  i’ve been using this cream for about 2 months ...         True\n",
       "3    P248407  love this cream. feels great on my skin and i ...         True\n",
       "4    P248407  i have repurchased this so many times! it is s...        False"
      ]
     },
     "execution_count": 2,
     "metadata": {},
     "output_type": "execute_result"
    }
   ],
   "source": [
    "import string\n",
    "\n",
    "# Palabras positivas básicas\n",
    "positive_words = {\"love\", \"like\", \"amazing\", \"great\", \"perfect\", \"awesome\", \"wonderful\", \"excellent\"}\n",
    "\n",
    "def clean_and_detect(text):\n",
    "    if not isinstance(text, str):\n",
    "        return False\n",
    "    # Eliminar puntuación y pasar a minúsculas\n",
    "    text_clean = text.translate(str.maketrans(\"\", \"\", string.punctuation)).lower()\n",
    "    return any(word in text_clean for word in positive_words)\n",
    "\n",
    "# Aplicar detección\n",
    "df_pd[\"is_positive\"] = df_pd[\"review_text\"].apply(clean_and_detect)\n",
    "\n",
    "# Ver primeras filas\n",
    "df_pd[[\"product_id\", \"review_text\", \"is_positive\"]].head()\n"
   ]
  },
  {
   "cell_type": "code",
   "execution_count": 3,
   "id": "2305c2d8",
   "metadata": {},
   "outputs": [
    {
     "name": "stdout",
     "output_type": "stream",
     "text": [
      "📝 Total de reseñas: 599634\n",
      "👍 Reseñas positivas detectadas: 414207\n"
     ]
    }
   ],
   "source": [
    "print(\"📝 Total de reseñas:\", len(df_pd))\n",
    "print(\"👍 Reseñas positivas detectadas:\", df_pd['is_positive'].sum())\n"
   ]
  },
  {
   "cell_type": "code",
   "execution_count": 4,
   "id": "d3c2ab0c",
   "metadata": {},
   "outputs": [
    {
     "data": {
      "text/html": [
       "<div>\n",
       "<style scoped>\n",
       "    .dataframe tbody tr th:only-of-type {\n",
       "        vertical-align: middle;\n",
       "    }\n",
       "\n",
       "    .dataframe tbody tr th {\n",
       "        vertical-align: top;\n",
       "    }\n",
       "\n",
       "    .dataframe thead th {\n",
       "        text-align: right;\n",
       "    }\n",
       "</style>\n",
       "<table border=\"1\" class=\"dataframe\">\n",
       "  <thead>\n",
       "    <tr style=\"text-align: right;\">\n",
       "      <th></th>\n",
       "      <th>product_id</th>\n",
       "      <th>review_text</th>\n",
       "    </tr>\n",
       "  </thead>\n",
       "  <tbody>\n",
       "    <tr>\n",
       "      <th>100220</th>\n",
       "      <td>P423688</td>\n",
       "      <td>my face felt smoother after using it. i don’t ...</td>\n",
       "    </tr>\n",
       "    <tr>\n",
       "      <th>164372</th>\n",
       "      <td>P481084</td>\n",
       "      <td>this is my new holy grail! i have sensitive, a...</td>\n",
       "    </tr>\n",
       "    <tr>\n",
       "      <th>37820</th>\n",
       "      <td>P94421</td>\n",
       "      <td>i really wanted to love this product but i’ve ...</td>\n",
       "    </tr>\n",
       "    <tr>\n",
       "      <th>505560</th>\n",
       "      <td>P467038</td>\n",
       "      <td>i really like this product!  i have purchased ...</td>\n",
       "    </tr>\n",
       "    <tr>\n",
       "      <th>581246</th>\n",
       "      <td>P454794</td>\n",
       "      <td>love this so much! goes on light and smooth bu...</td>\n",
       "    </tr>\n",
       "  </tbody>\n",
       "</table>\n",
       "</div>"
      ],
      "text/plain": [
       "       product_id                                        review_text\n",
       "100220    P423688  my face felt smoother after using it. i don’t ...\n",
       "164372    P481084  this is my new holy grail! i have sensitive, a...\n",
       "37820      P94421  i really wanted to love this product but i’ve ...\n",
       "505560    P467038  i really like this product!  i have purchased ...\n",
       "581246    P454794  love this so much! goes on light and smooth bu..."
      ]
     },
     "execution_count": 4,
     "metadata": {},
     "output_type": "execute_result"
    }
   ],
   "source": [
    "# Si hay menos de 5 positivas, mostrar todas\n",
    "positivas = df_pd[df_pd[\"is_positive\"]]\n",
    "sample_size = min(5, len(positivas))\n",
    "\n",
    "positivas[[\"product_id\", \"review_text\"]].sample(sample_size, random_state=42)\n"
   ]
  }
 ],
 "metadata": {
  "kernelspec": {
   "display_name": "venv",
   "language": "python",
   "name": "python3"
  },
  "language_info": {
   "codemirror_mode": {
    "name": "ipython",
    "version": 3
   },
   "file_extension": ".py",
   "mimetype": "text/x-python",
   "name": "python",
   "nbconvert_exporter": "python",
   "pygments_lexer": "ipython3",
   "version": "3.10.12"
  }
 },
 "nbformat": 4,
 "nbformat_minor": 5
}
