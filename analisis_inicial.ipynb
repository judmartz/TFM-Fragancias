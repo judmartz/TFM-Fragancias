{
 "cells": [
  {
   "cell_type": "code",
   "execution_count": null,
   "id": "d66a5909",
   "metadata": {},
   "outputs": [],
   "source": [
    "#codi tfm"
   ]
  }
 ],
 "metadata": {
  "language_info": {
   "name": "python"
  }
 },
 "nbformat": 4,
 "nbformat_minor": 5
}
